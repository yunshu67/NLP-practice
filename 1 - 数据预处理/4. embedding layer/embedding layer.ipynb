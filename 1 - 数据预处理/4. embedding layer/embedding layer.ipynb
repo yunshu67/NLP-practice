{
 "cells": [
  {
   "cell_type": "code",
   "execution_count": 1,
   "id": "4596e489-2614-47f0-b011-d7fb501d8c36",
   "metadata": {},
   "outputs": [],
   "source": [
    "import torch\n",
    "import torch.nn as nn\n",
    "import torch.nn.functional as F\n",
    "from torch import optim\n"
   ]
  },
  {
   "cell_type": "code",
   "execution_count": 2,
   "id": "f17e6a0f-4d0f-4ba1-8fe4-942b17d92b1b",
   "metadata": {},
   "outputs": [],
   "source": [
    "VOCAB = {'A':1,'B':2,'C':3,'D':4,'E':5}\n",
    "train_data = [1,2,3,4,5]\n",
    "train_label = [1,1,1,0,0]"
   ]
  },
  {
   "cell_type": "code",
   "execution_count": 3,
   "id": "342dc0d5-fcfd-4fd8-8433-6d53ab2629d5",
   "metadata": {},
   "outputs": [],
   "source": [
    "class MyModel(nn.Module):\n",
    "    def __init__(self):\n",
    "        super(MyModel, self).__init__()\n",
    "        self.embedding = nn.Embedding(7,3,padding_idx=0)\n",
    "        self.fc = nn.Linear(3,1)\n",
    "\n",
    "    def forward(self, x):\n",
    "        embed = self.embedding(x)\n",
    "        out = self.fc(embed)\n",
    "        sigmoid_out=torch.sigmoid(out)\n",
    "        return sigmoid_out"
   ]
  },
  {
   "cell_type": "code",
   "execution_count": 4,
   "id": "34b4f569-f995-4cf7-8cdd-c55c56159a85",
   "metadata": {},
   "outputs": [
    {
     "data": {
      "text/plain": [
       "tensor([0.5338], grad_fn=<SigmoidBackward0>)"
      ]
     },
     "execution_count": 4,
     "metadata": {},
     "output_type": "execute_result"
    }
   ],
   "source": [
    "myModel = MyModel()\n",
    "myModel.forward(torch.tensor(1))"
   ]
  },
  {
   "cell_type": "code",
   "execution_count": 5,
   "id": "581492ed-b6fe-4680-bf4e-5351c2b0f280",
   "metadata": {},
   "outputs": [
    {
     "name": "stdout",
     "output_type": "stream",
     "text": [
      "tensor(2.3026)\n",
      "tensor(0.1054)\n"
     ]
    }
   ],
   "source": [
    "lossFn = nn.functional.binary_cross_entropy\n",
    "\n",
    "print(lossFn(torch.tensor(0.1),torch.tensor(1.0)))\n",
    "print(lossFn(torch.tensor(0.9),torch.tensor(1.0)))"
   ]
  },
  {
   "cell_type": "code",
   "execution_count": 6,
   "id": "fb121991-dc5b-4923-9b70-d800d6fa6d63",
   "metadata": {},
   "outputs": [],
   "source": [
    "learning_rate = 1e-2\n",
    "optimizer = torch.optim.Adam(myModel.parameters(), lr=learning_rate)\n",
    "epoch = 100"
   ]
  },
  {
   "cell_type": "code",
   "execution_count": 7,
   "id": "87893149-330e-4888-bc2a-1a542d61a7bb",
   "metadata": {},
   "outputs": [],
   "source": [
    "for i in range(epoch):\n",
    "    # print(\"-------第 {} 轮训练开始-------\".format(i + 1))\n",
    "    # 训练步骤开始\n",
    "    myModel.train()\n",
    "    for idx in range(len(train_label)):\n",
    "        data = torch.tensor(train_data[idx])\n",
    "        label = torch.tensor([train_label[idx]],dtype=torch.float)\n",
    "        output = myModel(data)  # 求模型的输出\n",
    "        loss = lossFn(output, label)  # 求loss\n",
    "\n",
    "\n",
    "        # 优化器优化模型\n",
    "        optimizer.zero_grad()  # 梯度清零\n",
    "        loss.backward()  # 求梯度\n",
    "        optimizer.step()  # 更新参数"
   ]
  },
  {
   "cell_type": "code",
   "execution_count": 8,
   "id": "346c4c82-554d-4365-857b-bf540e894aa8",
   "metadata": {},
   "outputs": [
    {
     "data": {
      "text/plain": [
       "(tensor([0.9956], grad_fn=<SigmoidBackward0>),\n",
       " tensor([0.9961], grad_fn=<SigmoidBackward0>),\n",
       " tensor([0.9923], grad_fn=<SigmoidBackward0>),\n",
       " tensor([0.0212], grad_fn=<SigmoidBackward0>),\n",
       " tensor([0.0071], grad_fn=<SigmoidBackward0>))"
      ]
     },
     "execution_count": 8,
     "metadata": {},
     "output_type": "execute_result"
    }
   ],
   "source": [
    "myModel(torch.tensor(1)),myModel(torch.tensor(2)),myModel(torch.tensor(3)),myModel(torch.tensor(4)),myModel(torch.tensor(5))"
   ]
  }
 ],
 "metadata": {
  "kernelspec": {
   "display_name": "Python 3 (ipykernel)",
   "language": "python",
   "name": "python3"
  },
  "language_info": {
   "codemirror_mode": {
    "name": "ipython",
    "version": 3
   },
   "file_extension": ".py",
   "mimetype": "text/x-python",
   "name": "python",
   "nbconvert_exporter": "python",
   "pygments_lexer": "ipython3",
   "version": "3.9.7"
  }
 },
 "nbformat": 4,
 "nbformat_minor": 5
}
