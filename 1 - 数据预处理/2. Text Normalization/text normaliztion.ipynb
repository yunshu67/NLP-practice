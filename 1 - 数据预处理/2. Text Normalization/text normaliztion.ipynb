{
 "cells": [
  {
   "cell_type": "code",
   "execution_count": 1,
   "outputs": [
    {
     "name": "stderr",
     "output_type": "stream",
     "text": [
      "E:\\miniconda\\envs\\py37\\lib\\site-packages\\tqdm\\auto.py:22: TqdmWarning: IProgress not found. Please update jupyter and ipywidgets. See https://ipywidgets.readthedocs.io/en/stable/user_install.html\n",
      "  from .autonotebook import tqdm as notebook_tqdm\n"
     ]
    }
   ],
   "source": [
    "import spacy\n",
    "def spacy_process(text,print_result=False):\n",
    "    '''\n",
    "    text: Union(str,doc)\n",
    "    print_result: if True, print the results to console\n",
    "\n",
    "    return: tokenLists -> List; lemmaList ->List; filteredList -> List\n",
    "    '''\n",
    "    spacy.prefer_gpu()\n",
    "    nlp = spacy.load('en_core_web_sm')\n",
    "    doc = nlp(text)\n",
    "\n",
    "    #only tokenization\n",
    "    token_list = []\n",
    "    for token in doc:\n",
    "        token_list.append(str(token))\n",
    "\n",
    "\n",
    "    #Tokenization and lemmatization are done with the spacy nlp pipeline commands\n",
    "    lemma_list = []\n",
    "    for token in doc:\n",
    "        lemma_list.append(token.lemma_)\n",
    "\n",
    "    #Filter the stopword\n",
    "    filtered_sentence =[]\n",
    "    for word in lemma_list:\n",
    "        lexeme = nlp.vocab[word]\n",
    "        if lexeme.is_stop == False:\n",
    "            filtered_sentence.append(word)\n",
    "\n",
    "    #Remove punctuation\n",
    "    punctuations=\"?:!.,;\"\n",
    "    for word in filtered_sentence:\n",
    "        if word in punctuations:\n",
    "            filtered_sentence.remove(word)\n",
    "\n",
    "    if print_result:\n",
    "        print(\"Only Tokeinze\")\n",
    "        print(token_list)\n",
    "        print()\n",
    "        print(\"Tokenize+Lemmatize:\")\n",
    "        print(lemma_list)\n",
    "        print(\" \")\n",
    "        print(\"Remove stopword & punctuation: \")\n",
    "        print(filtered_sentence)\n",
    "    return token_list, lemma_list, filtered_sentence\n",
    "\n"
   ],
   "metadata": {
    "collapsed": false,
    "pycharm": {
     "name": "#%%\n"
    }
   }
  }
 ],
 "metadata": {
  "kernelspec": {
   "display_name": "Python 3",
   "language": "python",
   "name": "python3"
  },
  "language_info": {
   "codemirror_mode": {
    "name": "ipython",
    "version": 2
   },
   "file_extension": ".py",
   "mimetype": "text/x-python",
   "name": "python",
   "nbconvert_exporter": "python",
   "pygments_lexer": "ipython2",
   "version": "2.7.6"
  }
 },
 "nbformat": 4,
 "nbformat_minor": 0
}