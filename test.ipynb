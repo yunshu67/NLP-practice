{
 "cells": [
  {
   "cell_type": "code",
   "execution_count": 1,
   "id": "cdfd2464-493c-4674-9f2d-9c1ff6355b75",
   "metadata": {},
   "outputs": [],
   "source": [
    "from toolkit import *"
   ]
  },
  {
   "cell_type": "code",
   "execution_count": 2,
   "id": "a79a7ce3-32cf-4d96-963e-ff50398f1d7a",
   "metadata": {},
   "outputs": [
    {
     "name": "stdout",
     "output_type": "stream",
     "text": [
      "dump word/idx at .\n",
      "Successfully load Golve from ., the shape of cached matrix: (400000, 50)\n"
     ]
    }
   ],
   "source": [
    "embed_layer, embedding_matrix, word2idx, embed_dim = pretrained_word_embeddings('./glove.6B.50d.txt', True, freeze=True)\n"
   ]
  },
  {
   "cell_type": "code",
   "execution_count": 3,
   "id": "0eef2ae5-fc48-4b21-a366-cf2871d218cc",
   "metadata": {},
   "outputs": [
    {
     "name": "stdout",
     "output_type": "stream",
     "text": [
      "<class 'numpy.ndarray'>\n",
      "(400004, 50)\n"
     ]
    }
   ],
   "source": [
    "print(type(embedding_matrix))\n",
    "print(embedding_matrix.shape)"
   ]
  },
  {
   "cell_type": "code",
   "execution_count": 4,
   "id": "ecc7bc0e-3879-4965-842a-6d3016ed6fb8",
   "metadata": {},
   "outputs": [
    {
     "name": "stdout",
     "output_type": "stream",
     "text": [
      "13079\n",
      "[-0.38497   0.80092   0.064106 -0.28355  -0.026759 -0.34532  -0.64253\n",
      " -0.11729  -0.33257   0.55243  -0.087813  0.9035    0.47102   0.56657\n",
      "  0.6985   -0.35229  -0.86542   0.90573   0.03576  -0.071705 -0.12327\n",
      "  0.54923   0.47005   0.35572   1.2611   -0.67581  -0.94983   0.68666\n",
      "  0.3871   -1.3492    0.63512   0.46416  -0.48814   0.83827  -0.9246\n",
      " -0.33722   0.53741  -1.0616   -0.081403 -0.67111   0.30923  -0.3923\n",
      " -0.55002  -0.68827   0.58049  -0.11626   0.013139 -0.57654   0.048833\n",
      "  0.67204 ]\n",
      "<class 'numpy.ndarray'>\n"
     ]
    }
   ],
   "source": [
    "word = 'hello'\n",
    "idx = word2idx(word)\n",
    "embedding = embedding_matrix[idx]\n",
    "\n",
    "print(idx)\n",
    "print(embedding)\n",
    "print(type(embedding))"
   ]
  },
  {
   "cell_type": "code",
   "execution_count": 5,
   "id": "938a7144-0cc9-4786-8475-b3c5038751aa",
   "metadata": {},
   "outputs": [
    {
     "data": {
      "text/plain": [
       "1"
      ]
     },
     "execution_count": 5,
     "metadata": {},
     "output_type": "execute_result"
    }
   ],
   "source": [
    "word = 'niusssbi'\n",
    "idx = word2idx(word)\n",
    "idx"
   ]
  },
  {
   "cell_type": "code",
   "execution_count": 6,
   "id": "895b91ab-48e0-4a56-b0ad-ba44a14eba71",
   "metadata": {},
   "outputs": [
    {
     "data": {
      "text/plain": [
       "4"
      ]
     },
     "execution_count": 6,
     "metadata": {},
     "output_type": "execute_result"
    }
   ],
   "source": [
    "word2idx('the')"
   ]
  },
  {
   "cell_type": "code",
   "execution_count": 7,
   "id": "60d5b89a-d085-4ade-a315-1e0a97fb5551",
   "metadata": {},
   "outputs": [
    {
     "data": {
      "text/plain": [
       "1"
      ]
     },
     "execution_count": 7,
     "metadata": {},
     "output_type": "execute_result"
    }
   ],
   "source": [
    "word2idx('The')"
   ]
  },
  {
   "cell_type": "code",
   "execution_count": 8,
   "id": "edcfea14-c301-4d56-a236-10ddce68bebe",
   "metadata": {},
   "outputs": [
    {
     "data": {
      "text/plain": [
       "2"
      ]
     },
     "execution_count": 8,
     "metadata": {},
     "output_type": "execute_result"
    }
   ],
   "source": [
    "word2idx('<bos>')"
   ]
  },
  {
   "cell_type": "code",
   "execution_count": null,
   "id": "4f2c9833-9090-4053-98a9-11d3d0a9c425",
   "metadata": {},
   "outputs": [],
   "source": []
  },
  {
   "cell_type": "code",
   "execution_count": 25,
   "id": "f3d3959c-5cb9-4a48-83b3-3cf703e7755e",
   "metadata": {},
   "outputs": [],
   "source": [
    "import spacy\n",
    "import numpy as np\n",
    "def spacy_process(text):\n",
    "    nlp = spacy.load('en_core_web_trf')\n",
    "    doc = nlp(text)\n",
    "    \n",
    "    #only tokenization\n",
    "    print(\"Only Tokeinze\")\n",
    "    token_list = []\n",
    "    for token in doc:\n",
    "        token_list.append(str(token))\n",
    "    print(token_list)\n",
    "    print()\n",
    "    \n",
    "    #Tokenization and lemmatization are done with the spacy nlp pipeline commands\n",
    "    lemma_list = []\n",
    "    for token in doc:\n",
    "        lemma_list.append(token.lemma_)\n",
    "    print(\"Tokenize+Lemmatize:\")\n",
    "    print(lemma_list)\n",
    "    \n",
    "    #Filter the stopword\n",
    "    filtered_sentence =[] \n",
    "    for word in lemma_list:\n",
    "        lexeme = nlp.vocab[word]\n",
    "        if lexeme.is_stop == False:\n",
    "            filtered_sentence.append(word) \n",
    "    \n",
    "    #Remove punctuation\n",
    "    punctuations=\"?:!.,;\"\n",
    "    for word in filtered_sentence:\n",
    "        if word in punctuations:\n",
    "            filtered_sentence.remove(word)\n",
    "    print(\" \")\n",
    "    print(\"Remove stopword & punctuation: \")\n",
    "    print(filtered_sentence)\n",
    "    \n",
    "    return np.array(token_list), np.array(lemma_list), np.array(filtered_sentence)"
   ]
  },
  {
   "cell_type": "code",
   "execution_count": 17,
   "id": "8f7ac1b6-5e2a-4e17-a5c0-037499ab263c",
   "metadata": {},
   "outputs": [],
   "source": [
    "sentence = '''I dont' like u.s.'''"
   ]
  },
  {
   "cell_type": "code",
   "execution_count": 26,
   "id": "5c700656-ed0a-4542-8fab-6e99580c5d98",
   "metadata": {},
   "outputs": [
    {
     "name": "stdout",
     "output_type": "stream",
     "text": [
      "Only Tokeinze\n",
      "['I', 'do', 'nt', \"'\", 'like', 'u.s', '.']\n",
      "\n",
      "Tokenize+Lemmatize:\n",
      "['I', 'do', 'nt', \"'\", 'like', 'u.s', '.']\n",
      " \n",
      "Remove stopword & punctuation: \n",
      "['nt', \"'\", 'like', 'u.s']\n"
     ]
    },
    {
     "name": "stderr",
     "output_type": "stream",
     "text": [
      "E:\\miniconda\\envs\\py37\\lib\\site-packages\\torch\\autocast_mode.py:162: UserWarning: User provided device_type of 'cuda', but CUDA is not available. Disabling\n",
      "  warnings.warn('User provided device_type of \\'cuda\\', but CUDA is not available. Disabling')\n"
     ]
    }
   ],
   "source": [
    "a,b,c = spacy_process(sentence)"
   ]
  },
  {
   "cell_type": "code",
   "execution_count": 29,
   "id": "b7b83950-6ea1-479f-950d-729b301b7d42",
   "metadata": {},
   "outputs": [
    {
     "name": "stdout",
     "output_type": "stream",
     "text": [
      "['I' 'do' 'nt' \"'\" 'like' 'u.s' '.']\n"
     ]
    }
   ],
   "source": [
    "print(a)"
   ]
  },
  {
   "cell_type": "code",
   "execution_count": 30,
   "id": "db9e01b8-e57d-4c3a-821a-e3c082a40567",
   "metadata": {},
   "outputs": [
    {
     "data": {
      "text/plain": [
       "5663"
      ]
     },
     "execution_count": 30,
     "metadata": {},
     "output_type": "execute_result"
    }
   ],
   "source": [
    "word2idx('nt')"
   ]
  }
 ],
 "metadata": {
  "kernelspec": {
   "display_name": "Python 3 (ipykernel)",
   "language": "python",
   "name": "python3"
  },
  "language_info": {
   "codemirror_mode": {
    "name": "ipython",
    "version": 3
   },
   "file_extension": ".py",
   "mimetype": "text/x-python",
   "name": "python",
   "nbconvert_exporter": "python",
   "pygments_lexer": "ipython3",
   "version": "3.7.11"
  }
 },
 "nbformat": 4,
 "nbformat_minor": 5
}
