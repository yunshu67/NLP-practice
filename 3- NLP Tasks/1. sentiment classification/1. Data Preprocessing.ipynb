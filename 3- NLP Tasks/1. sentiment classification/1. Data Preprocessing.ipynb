{
 "nbformat": 4,
 "nbformat_minor": 0,
 "metadata": {
  "colab": {
   "name": "NLP-Practice-1: Sentiment Classification.ipynb",
   "provenance": []
  },
  "kernelspec": {
   "name": "python3",
   "display_name": "Python 3"
  },
  "language_info": {
   "name": "python"
  },
  "accelerator": "GPU"
 },
 "cells": [
  {
   "cell_type": "code",
   "execution_count": 1,
   "metadata": {
    "colab": {
     "base_uri": "https://localhost:8080/"
    },
    "id": "3TjA9Cq6wltX",
    "outputId": "49a08113-a11a-43b3-828b-ef5d3b2ac697"
   },
   "outputs": [
    {
     "name": "stdout",
     "output_type": "stream",
     "text": [
      "Python 3.7.11\n"
     ]
    }
   ],
   "source": [
    "!python --version"
   ]
  },
  {
   "cell_type": "code",
   "source": [
    "# !pip install -U bcolz"
   ],
   "metadata": {
    "colab": {
     "base_uri": "https://localhost:8080/"
    },
    "id": "NXGwuCt3wpOI",
    "outputId": "8c8c65fb-dbaf-4947-e23d-f1bf14bb3585"
   },
   "execution_count": 2,
   "outputs": []
  },
  {
   "cell_type": "code",
   "source": [
    "# !python -m spacy download en_core_web_sm"
   ],
   "metadata": {
    "colab": {
     "base_uri": "https://localhost:8080/"
    },
    "id": "bGzSLv6XQnAS",
    "outputId": "c0292efe-c348-42e4-aa4e-f13afd6cfcff"
   },
   "execution_count": 3,
   "outputs": []
  },
  {
   "cell_type": "markdown",
   "source": [
    "# Load pretrained word embeddings"
   ],
   "metadata": {
    "collapsed": false,
    "pycharm": {
     "name": "#%% md\n"
    }
   }
  },
  {
   "cell_type": "code",
   "source": [
    "'''\n",
    "python 3.7\n",
    "bcolz              1.2.1\n",
    "numpy              1.21.5\n",
    "pytorch  1.11.0\n",
    "\n",
    "'''\n",
    "import os\n",
    "import bcolz\n",
    "import numpy as np\n",
    "import pickle\n",
    "import torch\n",
    "\n",
    "def pretrained_word_embeddings(embed_path:str, over_writte:bool, special_tk:bool=True, freeze:bool=False):\n",
    "    ''' return a torch.nn.Embedding layer, utilizing the pre-trained word vector (e.g., Glove), add 'bos', 'eos', 'unk' and 'pad'.\n",
    "\n",
    "    :param embed_path: the path where pre-trained matrix cached (e.g., './glove.6B.300d.txt').\n",
    "    :param over_writte: force to rewritte the existing matrix.\n",
    "    :param special_tk: whether adding special token -- 'pad', 'unk', bos' and 'eos', at position 0, 1, 2 and 3 by default.\n",
    "    :param freeze: whether trainable.\n",
    "    :return: embed -> nn.Embedding, weights_matrix -> np.array, word2idx -> function, idx2word -> function, embed_dim -> int\n",
    "    '''\n",
    "    root_dir = embed_path.rsplit(\".\",1)[0]+\".dat\"\n",
    "    out_dir_word = embed_path.rsplit(\".\",1)[0]+\"_words.pkl\"\n",
    "    out_dir_idx = embed_path.rsplit(\".\",1)[0]+\"_idx.pkl\"\n",
    "    out_dir_idx2word = embed_path.rsplit(\".\", 1)[0] + \"_idx2word.pkl\"\n",
    "    if not all([os.path.exists(root_dir),os.path.exists(out_dir_word),os.path.exists(out_dir_idx)]) or over_writte:\n",
    "        ## process and cache glove ===========================================\n",
    "        words = []\n",
    "        idx = 0\n",
    "        _word2idx = {}\n",
    "        _idx2word = {}\n",
    "        vectors = bcolz.carray(np.zeros(1), rootdir=root_dir, mode='w')\n",
    "        with open(os.path.join(embed_path),\"rb\") as f:\n",
    "            for l in f:\n",
    "                line = l.decode().split()\n",
    "                word = line[0]\n",
    "                words.append(word)\n",
    "                _word2idx[word] = idx\n",
    "                _idx2word[idx]=word\n",
    "                idx += 1\n",
    "                vect = np.array(line[1:]).astype(float)\n",
    "                vectors.append(vect)\n",
    "        vectors = bcolz.carray(vectors[1:].reshape((idx, vect.shape[0])), rootdir=root_dir, mode='w')\n",
    "        vectors.flush()\n",
    "        pickle.dump(words, open(out_dir_word, 'wb'))\n",
    "        pickle.dump(_word2idx, open(out_dir_idx, 'wb'))\n",
    "        pickle.dump(_idx2word,open(out_dir_idx2word,'wb'))\n",
    "        print(\"dump word/idx at {}\".format(embed_path.rsplit(\"/\",1)[0]))\n",
    "        ## =======================================================\n",
    "    ## load glove\n",
    "    vectors = bcolz.open(root_dir)[:]\n",
    "    words = pickle.load(open(embed_path.rsplit(\".\",1)[0]+\"_words.pkl\", 'rb'))\n",
    "    _word2idx = pickle.load(open(embed_path.rsplit(\".\",1)[0]+\"_idx.pkl\", 'rb'))\n",
    "    _idx2word=pickle.load(open(embed_path.rsplit(\".\", 1)[0] + \"_idx2word.pkl\",'rb'))\n",
    "    print(\"Successfully load Golve from {}, the shape of cached matrix: {}\".format(embed_path.rsplit(\"/\",1)[0],vectors.shape))\n",
    "\n",
    "    word_num, embed_dim = vectors.shape\n",
    "    word_num += 4  if special_tk else 0  ## e.g., 400004\n",
    "    embedding_matrix = np.zeros((word_num, embed_dim))\n",
    "    if special_tk:\n",
    "        embedding_matrix[1] = np.random.normal(scale=0.6, size=(embed_dim, ))\n",
    "        embedding_matrix[2] = np.random.normal(scale=0.6, size=(embed_dim,))\n",
    "        embedding_matrix[3] = np.random.normal(scale=0.6, size=(embed_dim,))\n",
    "        embedding_matrix[4:,:] = vectors\n",
    "        weights_matrix_tensor = torch.FloatTensor(embedding_matrix)\n",
    "        pad_idx,unk_idx, bos_idx,eos_idx = 0,1,2,3\n",
    "        embed_layer = torch.nn.Embedding(word_num, embed_dim,padding_idx=pad_idx)\n",
    "        embed_layer.from_pretrained(weights_matrix_tensor,freeze=freeze,padding_idx=pad_idx)\n",
    "        _word2idx = dict([(k,v+4) for k,v in _word2idx.items()])\n",
    "        _idx2word = dict([(k+4,v) for k,v in _idx2word.items()])\n",
    "        assert len(_word2idx) + 4 == embedding_matrix.shape[0]\n",
    "    else:\n",
    "        embedding_matrix[:,:] = vectors\n",
    "        weights_matrix_tensor = torch.FloatTensor(embedding_matrix)\n",
    "        embed_layer = torch.nn.Embedding(word_num, embed_dim)\n",
    "        embed_layer.from_pretrained(weights_matrix_tensor,freeze=freeze)\n",
    "        assert len(_word2idx) == embedding_matrix.shape[0]\n",
    "\n",
    "    def word2idx(word:str):\n",
    "        if word == '<pad>': return 0\n",
    "        elif word == '<bos>': return 2\n",
    "        elif word == '<eos>': return 3\n",
    "        return _word2idx.get(word,1)\n",
    "    def idx2word(idx:int):\n",
    "        if idx == 0: return '<pad>'\n",
    "        elif idx == 1: return '<unk>'\n",
    "        elif idx == 2: return '<bos>'\n",
    "        elif idx == 3: return '<eos>'\n",
    "        return _idx2word.get(idx,'')\n",
    "    return embed_layer, embedding_matrix, word2idx,idx2word, embed_dim"
   ],
   "metadata": {
    "id": "jlS9MlAVw2Zh"
   },
   "execution_count": 35,
   "outputs": []
  },
  {
   "cell_type": "markdown",
   "source": [
    "# Load Data"
   ],
   "metadata": {
    "collapsed": false,
    "pycharm": {
     "name": "#%% md\n"
    }
   }
  },
  {
   "cell_type": "code",
   "source": [
    "import pandas as pd\n",
    "data = pd.read_csv('../../datasets/IMDB Dataset.csv')"
   ],
   "metadata": {
    "id": "ARGRMcFIw6Dl"
   },
   "execution_count": 5,
   "outputs": []
  },
  {
   "cell_type": "code",
   "source": [
    "reviews = data['review'].values\n",
    "sentiment = data['sentiment'].values\n",
    "\n",
    "print(type(reviews), type(sentiment))\n",
    "print(reviews.shape, sentiment.shape)\n",
    "print(reviews[0])\n",
    "print(sentiment[0])"
   ],
   "metadata": {
    "colab": {
     "base_uri": "https://localhost:8080/"
    },
    "id": "gD-JlXz9D5GC",
    "outputId": "17474d44-d962-4b28-8168-b7021a6733ec"
   },
   "execution_count": 6,
   "outputs": [
    {
     "name": "stdout",
     "output_type": "stream",
     "text": [
      "<class 'numpy.ndarray'> <class 'numpy.ndarray'>\n",
      "(50000,) (50000,)\n",
      "One of the other reviewers has mentioned that after watching just 1 Oz episode you'll be hooked. They are right, as this is exactly what happened with me.<br /><br />The first thing that struck me about Oz was its brutality and unflinching scenes of violence, which set in right from the word GO. Trust me, this is not a show for the faint hearted or timid. This show pulls no punches with regards to drugs, sex or violence. Its is hardcore, in the classic use of the word.<br /><br />It is called OZ as that is the nickname given to the Oswald Maximum Security State Penitentary. It focuses mainly on Emerald City, an experimental section of the prison where all the cells have glass fronts and face inwards, so privacy is not high on the agenda. Em City is home to many..Aryans, Muslims, gangstas, Latinos, Christians, Italians, Irish and more....so scuffles, death stares, dodgy dealings and shady agreements are never far away.<br /><br />I would say the main appeal of the show is due to the fact that it goes where other shows wouldn't dare. Forget pretty pictures painted for mainstream audiences, forget charm, forget romance...OZ doesn't mess around. The first episode I ever saw struck me as so nasty it was surreal, I couldn't say I was ready for it, but as I watched more, I developed a taste for Oz, and got accustomed to the high levels of graphic violence. Not just violence, but injustice (crooked guards who'll be sold out for a nickel, inmates who'll kill on order and get away with it, well mannered, middle class inmates being turned into prison bitches due to their lack of street skills or prison experience) Watching Oz, you may become comfortable with what is uncomfortable viewing....thats if you can get in touch with your darker side.\n",
      "positive\n"
     ]
    }
   ]
  },
  {
   "cell_type": "markdown",
   "source": [
    "# Text Normalization"
   ],
   "metadata": {
    "collapsed": false,
    "pycharm": {
     "name": "#%% md\n"
    }
   }
  },
  {
   "cell_type": "code",
   "source": [
    "import spacy\n",
    "def spacy_process(text,print_result=False):\n",
    "    '''\n",
    "    text: Union(str,doc)\n",
    "    print_result: if True, print the results to console\n",
    "\n",
    "    return: tokenLists -> List; lemmaList ->List; filteredList -> List\n",
    "    '''\n",
    "    # lowercasing\n",
    "    text = text.lower().strip()\n",
    "\n",
    "    spacy.prefer_gpu()\n",
    "    nlp = spacy.load('en_core_web_sm')\n",
    "    doc = nlp(text)\n",
    "\n",
    "    #only tokenization\n",
    "    token_list = []\n",
    "    for token in doc:\n",
    "        token_list.append(str(token))\n",
    "\n",
    "\n",
    "    #Tokenization and lemmatization are done with the spacy nlp pipeline commands\n",
    "    lemma_list = []\n",
    "    for token in doc:\n",
    "        lemma_list.append(token.lemma_)\n",
    "\n",
    "    #Filter the stopword\n",
    "    filtered_sentence =[]\n",
    "    for word in lemma_list:\n",
    "        lexeme = nlp.vocab[word]\n",
    "        if lexeme.is_stop == False:\n",
    "            filtered_sentence.append(word)\n",
    "\n",
    "    #Remove punctuation\n",
    "    punctuations=\"?:!.,;\"\n",
    "    for word in filtered_sentence:\n",
    "        if word in punctuations:\n",
    "            filtered_sentence.remove(word)\n",
    "\n",
    "    if print_result:\n",
    "        print(\"Only Tokeinze\")\n",
    "        print(token_list)\n",
    "        print()\n",
    "        print(\"Tokenize+Lemmatize:\")\n",
    "        print(lemma_list)\n",
    "        print(\" \")\n",
    "        print(\"Remove stopword & punctuation: \")\n",
    "        print(filtered_sentence)\n",
    "    return token_list, lemma_list, filtered_sentence\n",
    "\n"
   ],
   "metadata": {
    "id": "qUwVEhC8GJNr"
   },
   "execution_count": 18,
   "outputs": []
  },
  {
   "cell_type": "code",
   "source": [
    "# normlized_reviews = np.array([spacy_process(x)[0] for x in reviews])"
   ],
   "metadata": {
    "colab": {
     "base_uri": "https://localhost:8080/",
     "height": 350
    },
    "id": "fheq0AxZPypR",
    "outputId": "8583c2a4-8174-421a-a654-8d446858850b"
   },
   "execution_count": 8,
   "outputs": []
  },
  {
   "cell_type": "code",
   "source": [
    "from tqdm import trange\n",
    "tmp = []\n",
    "for i in trange(len(reviews)):\n",
    "    tmp.append(spacy_process(reviews[i])[0])"
   ],
   "metadata": {
    "colab": {
     "base_uri": "https://localhost:8080/"
    },
    "id": "qbIy-wHhanC-",
    "outputId": "d8f347ce-ba74-48fa-fc9f-9f7ca4591f6c",
    "pycharm": {
     "name": "#%%\n"
    }
   },
   "outputs": [
    {
     "name": "stderr",
     "output_type": "stream",
     "text": [
      "100%|██████████| 50000/50000 [7:22:47<00:00,  1.88it/s]  \n"
     ]
    }
   ],
   "execution_count": 20
  },
  {
   "cell_type": "code",
   "execution_count": 22,
   "outputs": [
    {
     "name": "stdout",
     "output_type": "stream",
     "text": [
      "['probably', 'my', 'all', '-', 'time', 'favorite', 'movie', ',', 'a', 'story', 'of', 'selflessness', ',', 'sacrifice', 'and', 'dedication', 'to', 'a', 'noble', 'cause', ',', 'but', 'it', \"'s\", 'not', 'preachy', 'or', 'boring', '.', 'it', 'just', 'never', 'gets', 'old', ',', 'despite', 'my', 'having', 'seen', 'it', 'some', '15', 'or', 'more', 'times', 'in', 'the', 'last', '25', 'years', '.', 'paul', 'lukas', \"'\", 'performance', 'brings', 'tears', 'to', 'my', 'eyes', ',', 'and', 'bette', 'davis', ',', 'in', 'one', 'of', 'her', 'very', 'few', 'truly', 'sympathetic', 'roles', ',', 'is', 'a', 'delight', '.', 'the', 'kids', 'are', ',', 'as', 'grandma', 'says', ',', 'more', 'like', '\"', 'dressed', '-', 'up', 'midgets', '\"', 'than', 'children', ',', 'but', 'that', 'only', 'makes', 'them', 'more', 'fun', 'to', 'watch', '.', 'and', 'the', 'mother', \"'s\", 'slow', 'awakening', 'to', 'what', \"'s\", 'happening', 'in', 'the', 'world', 'and', 'under', 'her', 'own', 'roof', 'is', 'believable', 'and', 'startling', '.', 'if', 'i', 'had', 'a', 'dozen', 'thumbs', ',', 'they', \"'d\", 'all', 'be', '\"', 'up', '\"', 'for', 'this', 'movie', '.']\n",
      "Probably my all-time favorite movie, a story of selflessness, sacrifice and dedication to a noble cause, but it's not preachy or boring. It just never gets old, despite my having seen it some 15 or more times in the last 25 years. Paul Lukas' performance brings tears to my eyes, and Bette Davis, in one of her very few truly sympathetic roles, is a delight. The kids are, as grandma says, more like \"dressed-up midgets\" than children, but that only makes them more fun to watch. And the mother's slow awakening to what's happening in the world and under her own roof is believable and startling. If I had a dozen thumbs, they'd all be \"up\" for this movie.\n"
     ]
    }
   ],
   "source": [
    "print(tmp[5])\n",
    "print(reviews[5])"
   ],
   "metadata": {
    "collapsed": false,
    "pycharm": {
     "name": "#%%\n"
    }
   }
  },
  {
   "cell_type": "code",
   "execution_count": 27,
   "outputs": [
    {
     "name": "stdout",
     "output_type": "stream",
     "text": [
      "<class 'list'>\n",
      "50000\n"
     ]
    }
   ],
   "source": [
    "print(type(tmp))\n",
    "print(len(tmp))"
   ],
   "metadata": {
    "collapsed": false,
    "pycharm": {
     "name": "#%%\n"
    }
   }
  },
  {
   "cell_type": "markdown",
   "source": [
    "# Sequentialization"
   ],
   "metadata": {
    "collapsed": false,
    "pycharm": {
     "name": "#%% md\n"
    }
   }
  },
  {
   "cell_type": "code",
   "source": [
    "'''\n",
    "TODO:\n",
    "- word to index\n",
    "- add bos and eos to each sequence\n",
    "- then padding\n",
    "- store locally\n",
    "'''"
   ],
   "metadata": {
    "collapsed": false,
    "pycharm": {
     "name": "#%%\n"
    }
   },
   "execution_count": null,
   "outputs": []
  },
  {
   "cell_type": "code",
   "execution_count": 36,
   "outputs": [
    {
     "name": "stdout",
     "output_type": "stream",
     "text": [
      "dump word/idx at ../../word embeddings\n",
      "Successfully load Golve from ../../word embeddings, the shape of cached matrix: (400000, 50)\n"
     ]
    }
   ],
   "source": [
    "embed_layer, embedding_matrix, word2idx,idx2word, embed_dim = pretrained_word_embeddings('../../word embeddings/glove.6B.50d.txt',True,True,True)"
   ],
   "metadata": {
    "collapsed": false,
    "pycharm": {
     "name": "#%%\n"
    }
   }
  },
  {
   "cell_type": "code",
   "execution_count": 32,
   "outputs": [
    {
     "data": {
      "text/plain": "2"
     },
     "execution_count": 32,
     "metadata": {},
     "output_type": "execute_result"
    }
   ],
   "source": [
    "word2idx('<bos>')"
   ],
   "metadata": {
    "collapsed": false,
    "pycharm": {
     "name": "#%%\n"
    }
   }
  },
  {
   "cell_type": "code",
   "execution_count": null,
   "outputs": [],
   "source": [],
   "metadata": {
    "collapsed": false,
    "pycharm": {
     "name": "#%%\n"
    }
   }
  },
  {
   "cell_type": "code",
   "execution_count": 33,
   "outputs": [
    {
     "name": "stderr",
     "output_type": "stream",
     "text": [
      "100%|██████████| 50000/50000 [00:06<00:00, 7256.38it/s]\n"
     ]
    }
   ],
   "source": [
    "# word to index\n",
    "# add bos and eos to each sequence\n",
    "for j in trange(len(tmp)):\n",
    "    i = tmp[j]\n",
    "    i.insert(0,'<bos>')\n",
    "    i.append('<eos>')\n",
    "    for idx in range(len(i)):\n",
    "        i[idx] = word2idx(i[idx])"
   ],
   "metadata": {
    "collapsed": false,
    "pycharm": {
     "name": "#%%\n"
    }
   }
  },
  {
   "cell_type": "code",
   "execution_count": 34,
   "outputs": [
    {
     "name": "stdout",
     "output_type": "stream",
     "text": [
      "[2, 52, 7, 4, 72, 17965, 35, 3046, 16, 53, 2645, 124, 180, 12965, 1946, 85, 773, 34, 12769, 6, 43, 36, 252, 5, 23, 41, 18, 2800, 106, 1583, 21, 1, 1, 1, 62, 877, 16, 1873, 289, 63, 12965, 19, 51, 13159, 9, 45659, 3472, 7, 718, 5, 46, 212, 10, 252, 29, 4, 1392, 246, 6, 1857, 289, 5, 41, 18, 40, 11, 277, 14, 4, 17177, 21364, 50, 25444, 6, 41, 277, 11114, 88, 14775, 21, 9485, 8, 1607, 5, 1743, 50, 718, 6, 51, 18, 16361, 5, 10, 4, 2396, 238, 7, 4, 1, 1, 1, 18, 179, 12965, 23, 16, 18, 4, 7402, 458, 8, 4, 17868, 2968, 198, 96, 1, 6, 24, 6549, 1678, 17, 19724, 119, 5, 33, 6126, 1523, 7, 4, 1001, 115, 68, 4, 2778, 37, 2851, 11278, 9, 625, 67375, 5, 104, 5314, 18, 40, 156, 17, 4, 2808, 6, 23612, 119, 18, 167, 8, 113, 1, 86437, 5, 2483, 5, 146506, 5, 15547, 5, 4995, 5, 8597, 5, 1842, 9, 60, 6942, 104, 31999, 5, 340, 31661, 5, 59477, 9608, 9, 18399, 3210, 36, 336, 376, 1, 1, 1, 58, 207, 4, 448, 1578, 7, 4, 277, 18, 449, 8, 4, 857, 16, 24, 1436, 115, 72, 974, 58, 74, 12252, 6, 4462, 1926, 2494, 4609, 14, 4830, 5814, 5, 4462, 9920, 5, 4462, 7200, 438, 12965, 264, 74, 7566, 208, 6, 4, 62, 1946, 45, 665, 826, 1873, 289, 23, 104, 10768, 24, 19, 17663, 5, 45, 98, 74, 207, 45, 19, 1192, 14, 24, 5, 38, 23, 45, 3140, 60, 5, 45, 1158, 11, 4378, 14, 12965, 5, 9, 409, 12356, 8, 4, 156, 1415, 7, 5324, 718, 6, 40, 124, 718, 5, 38, 13824, 27, 22730, 3158, 42, 773, 34, 923, 70, 14, 11, 11563, 5, 5271, 42, 773, 1920, 17, 464, 9, 173, 424, 21, 24, 5, 147, 28547, 5, 703, 909, 5271, 138, 856, 79, 1001, 74370, 449, 8, 48, 1496, 7, 495, 3146, 50, 1001, 1225, 28, 2645, 12965, 5, 85, 111, 403, 4035, 21, 106, 18, 9959, 8113, 6942, 86912, 87, 85, 90, 173, 10, 3259, 21, 396, 13842, 441, 6, 3]\n"
     ]
    }
   ],
   "source": [
    "print(tmp[0])"
   ],
   "metadata": {
    "collapsed": false,
    "pycharm": {
     "name": "#%%\n"
    }
   }
  },
  {
   "cell_type": "code",
   "execution_count": 37,
   "outputs": [],
   "source": [
    "def seq2words(seq):\n",
    "    for i in seq:\n",
    "        print(idx2word(i),end=' ')\n",
    "    print()\n"
   ],
   "metadata": {
    "collapsed": false,
    "pycharm": {
     "name": "#%%\n"
    }
   }
  },
  {
   "cell_type": "code",
   "execution_count": 39,
   "outputs": [
    {
     "name": "stdout",
     "output_type": "stream",
     "text": [
      "<bos> probably my all - time favorite movie , a story of selflessness , sacrifice and dedication to a noble cause , but it 's not preachy or boring . it just never gets old , despite my having seen it some 15 or more times in the last 25 years . paul lukas ' performance brings tears to my eyes , and bette davis , in one of her very few truly sympathetic roles , is a delight . the kids are , as grandma says , more like \" dressed - up midgets \" than children , but that only makes them more fun to watch . and the mother 's slow awakening to what 's happening in the world and under her own roof is believable and startling . if i had a dozen thumbs , they 'd all be \" up \" for this movie . <eos> \n"
     ]
    }
   ],
   "source": [
    "seq2words(tmp[5])"
   ],
   "metadata": {
    "collapsed": false,
    "pycharm": {
     "name": "#%%\n"
    }
   }
  },
  {
   "cell_type": "code",
   "execution_count": 48,
   "outputs": [],
   "source": [
    "def pad(seqs:list,length:int,mode = 'post',padding = 0):\n",
    "    if mode == 'post':\n",
    "        for idx in range(len(seqs)):\n",
    "            seq = seqs[idx]\n",
    "            if len(seq)<length:\n",
    "                seqs[idx].extend([padding]*(length-len(seq)))\n",
    "            elif len(seq) >length:\n",
    "                seqs[idx] = seq[:length]\n",
    "    elif mode == 'pre':\n",
    "        for idx in range(len(seqs)):\n",
    "            seq = seqs[idx]\n",
    "            if len(seq)<length:\n",
    "                seqs[idx] = [padding]*(length-len(seq)) + seq\n",
    "            elif len(seq) >length:\n",
    "                seqs[idx] = seq[:length]\n",
    "    else:\n",
    "        raise NotImplementedError('The padding mode is not implemented.')\n",
    "\n"
   ],
   "metadata": {
    "collapsed": false,
    "pycharm": {
     "name": "#%%\n"
    }
   }
  },
  {
   "cell_type": "code",
   "execution_count": 49,
   "outputs": [],
   "source": [
    "pad(tmp,256)"
   ],
   "metadata": {
    "collapsed": false,
    "pycharm": {
     "name": "#%%\n"
    }
   }
  },
  {
   "cell_type": "code",
   "execution_count": 52,
   "outputs": [
    {
     "name": "stdout",
     "output_type": "stream",
     "text": [
      "[2, 11, 5209, 337, 622, 6, 19799, 30414, 1, 1, 7278, 5004, 18, 195, 1, 195, 171, 15, 83, 15, 3096, 2539, 9, 1833, 11, 22956, 5, 9, 1075, 119716, 5, 1384, 7, 14630, 8, 4, 1456, 2369, 6, 19799, 30414, 1, 1, 3830, 36, 2712, 147, 1, 789, 19352, 40, 95, 12, 35, 409, 68, 4, 328926, 12, 38, 22, 35, 68, 4, 5864, 139, 4676, 321, 809, 85, 90, 4706, 257, 4, 25096, 9746, 6570, 25, 4, 3081, 8, 1321, 61, 9545, 9595, 5, 40, 95, 18, 24, 147, 1093, 4, 2645, 38, 24, 18, 11, 1, 986, 9, 1793, 2369, 6, 11, 31531, 622, 63, 52, 7, 4, 357, 2338, 13, 7, 2845, 9, 30, 218, 6, 19799, 30414, 1, 1, 14630, 592, 938, 167, 21, 4, 337, 658, 49, 4, 5851, 7, 4, 1394, 46, 5, 875, 77, 238, 4, 1278, 61, 2899, 61, 4280, 952, 3055, 131, 19358, 6, 24, 1385, 17, 166, 2493, 9, 166, 15040, 5, 1117, 21, 4, 3472, 4884, 26378, 9, 54797, 9, 4, 2307, 27, 1117, 7, 48, 2987, 21, 54797, 13, 20376, 22728, 363, 2287, 28, 36, 14911, 147, 755, 6, 3, 0, 0, 0, 0, 0, 0, 0, 0, 0, 0, 0, 0, 0, 0, 0, 0, 0, 0, 0, 0, 0, 0, 0, 0, 0, 0, 0, 0, 0, 0, 0, 0, 0, 0, 0, 0, 0, 0, 0, 0, 0, 0, 0, 0, 0, 0, 0, 0, 0, 0, 0, 0, 0, 0, 0, 0, 0, 0, 0, 0, 0, 0, 0]\n",
      "<bos> a wonderful little production . < br <unk> <unk> filming technique is very <unk> very old - time - bbc fashion and gives a comforting , and sometimes discomforting , sense of realism to the entire piece . < br <unk> <unk> actors are extremely well <unk> michael sheen not only \" has got all the polari \" but he has all the voices down pat too ! you can truly see the seamless editing guided by the references to williams ' diary entries , not only is it well worth the watching but it is a <unk> written and performed piece . a masterful production about one of the great master 's of comedy and his life . < br <unk> <unk> realism really comes home with the little things : the fantasy of the guard which , rather than use the traditional ' dream ' techniques remains solid then disappears . it plays on our knowledge and our senses , particularly with the scenes concerning orton and halliwell and the sets ( particularly of their flat with halliwell 's murals decorating every surface ) are terribly well done . <eos> <pad> <pad> <pad> <pad> <pad> <pad> <pad> <pad> <pad> <pad> <pad> <pad> <pad> <pad> <pad> <pad> <pad> <pad> <pad> <pad> <pad> <pad> <pad> <pad> <pad> <pad> <pad> <pad> <pad> <pad> <pad> <pad> <pad> <pad> <pad> <pad> <pad> <pad> <pad> <pad> <pad> <pad> <pad> <pad> <pad> <pad> <pad> <pad> <pad> <pad> <pad> <pad> <pad> <pad> <pad> <pad> <pad> <pad> <pad> <pad> <pad> <pad> <pad> \n",
      "None\n"
     ]
    }
   ],
   "source": [
    "print(tmp[1])\n",
    "print(seq2words(tmp[1]))"
   ],
   "metadata": {
    "collapsed": false,
    "pycharm": {
     "name": "#%%\n"
    }
   }
  },
  {
   "cell_type": "code",
   "execution_count": 53,
   "outputs": [],
   "source": [
    "normalized_reviews = np.array(tmp)"
   ],
   "metadata": {
    "collapsed": false,
    "pycharm": {
     "name": "#%%\n"
    }
   }
  },
  {
   "cell_type": "code",
   "execution_count": 54,
   "outputs": [
    {
     "name": "stdout",
     "output_type": "stream",
     "text": [
      "(50000, 256)\n"
     ]
    }
   ],
   "source": [
    "print(normalized_reviews.shape)"
   ],
   "metadata": {
    "collapsed": false,
    "pycharm": {
     "name": "#%%\n"
    }
   }
  },
  {
   "cell_type": "code",
   "execution_count": 58,
   "outputs": [],
   "source": [
    "#保存文件\n",
    "np.save(\"normalized_reviews.npy\",normalized_reviews)"
   ],
   "metadata": {
    "collapsed": false,
    "pycharm": {
     "name": "#%%\n"
    }
   }
  }
 ]
}